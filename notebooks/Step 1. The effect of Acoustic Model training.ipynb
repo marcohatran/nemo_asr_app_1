{
 "cells": [
  {
   "cell_type": "markdown",
   "metadata": {},
   "source": [
    "# The effect of Acoustic Model training\n",
    "In this notebook we evaluate the effect of `Acoustic Model training`. We walk you through the process of comparing a baseline pre-trained acoustic model with an acoustic model finetuned on domain specific data.\n",
    "\n",
    "1. We first train an acoustic model on a domain specific dataset. More specifically, we finetune a pre-trained baseline model, where we perform knowledge transfer from a [model trained on LibriSpeech with EN Common Voice](https://ngc.nvidia.com/catalog/models/nvidia:quartznet15x5) and train it with new a domain specific dataset.\n",
    "\n",
    "2. We compare the performance of the baseline model and the fine-tuned model by performing inference with both models and compare their WER performance. \n",
    "\n",
    "To simplify and enable reproducibility of the ASR workflow, this application allows you to create a `project` which enables the tracking of datasets, models and configurations across all workflows – i.e. acoustic model and language model pipelines."
   ]
  },
  {
   "cell_type": "code",
   "execution_count": 1,
   "metadata": {},
   "outputs": [],
   "source": [
    "# required imports\n",
    "%load_ext autoreload\n",
    "%autoreload 2\n",
    "\n",
    "import os\n",
    "import pandas as pd\n",
    "import numpy as np\n",
    "from easydict import EasyDict as edict\n",
    "\n",
    "from tools.System.config import cfg\n",
    "from tools.System.reader import Reader\n",
    "from tools.misc import parse_manifest_wer, barplot_manifest, get_transcript, get_gtruth"
   ]
  },
  {
   "cell_type": "markdown",
   "metadata": {},
   "source": [
    "# 1. Create a new project\n",
    "\n",
    "We create a project that will keep track of the datasets, configurations and models created across the acoustic model and language model workflows.\n",
    "Everything related to a project is saved in disc in a manifest that can be access through its `project_id`.\n",
    "\n",
    "At the start of the project, the manifest is pre-populated with the baseline pretrained models. For acoustic model we use a pretrained model on LibriSpeech with a greedy decoder and for language model we use a Baidu's CTC decoder model. Both pre-trained models were built or downloaded in `Step 0` and thus exist in the `example_data` folder."
   ]
  },
  {
   "cell_type": "code",
   "execution_count": 2,
   "metadata": {},
   "outputs": [
    {
     "name": "stdout",
     "output_type": "stream",
     "text": [
      "Training config file: /raid/datasets/asr/data/config_files/WSJ_acoustic_quartznet15x5.yaml\n",
      "Inference config file: /raid/datasets/asr/data/config_files/WSJ_acoustic_quartznet15x5.yaml\n",
      "Manifest is saved /raid/datasets/asr/data/manifests/WSJ_manifest.json \n",
      "\n"
     ]
    },
    {
     "data": {
      "text/plain": [
       "{'is_built': True,\n",
       " 'id': 'WSJ',\n",
       " 'manifest_path': '/raid/datasets/asr/data/manifests/WSJ_manifest.json',\n",
       " 'eval_dataset_names': [],\n",
       " 'eval_datasets': [],\n",
       " 'inference': {},\n",
       " 'inference_params': {'load_dir': '/home/adrianaf/projects/asr_system/nemo_asr_app/demo/quartznet15x5',\n",
       "  'model_config': '/raid/datasets/asr/data/config_files/WSJ_acoustic_quartznet15x5.yaml',\n",
       "  'batch_size': None,\n",
       "  'amp_opt_level': None,\n",
       "  'save_results': '/raid/datasets/asr/data/inferences/WSJ',\n",
       "  'lm_path': None,\n",
       "  'beam_width': None,\n",
       "  'alpha': None,\n",
       "  'beta': None},\n",
       " 'am': {'train_dataset_names': [],\n",
       "  'train_datasets': [],\n",
       "  'finetuned_model_path': None,\n",
       "  'train_cmd': None,\n",
       "  'infer_cmd': None,\n",
       "  'train_params': {'num_gpus': 1,\n",
       "   'batch_size': 16,\n",
       "   'num_epochs': 1,\n",
       "   'lr': None,\n",
       "   'warmup_steps': None,\n",
       "   'weight_decay': None,\n",
       "   'model_config': '/raid/datasets/asr/data/config_files/WSJ_acoustic_quartznet15x5.yaml',\n",
       "   'optimizer': 'novograd',\n",
       "   'amp_opt_level': 'O1',\n",
       "   'beta1': None,\n",
       "   'beta2': None,\n",
       "   'finetune': True,\n",
       "   'load_encoder': '/home/adrianaf/projects/asr_system/nemo_asr_app/demo/quartznet15x5/JasperEncoder-STEP-247400.pt',\n",
       "   'load_decoder': '/home/adrianaf/projects/asr_system/nemo_asr_app/demo/quartznet15x5/JasperDecoderForCTC-STEP-247400.pt',\n",
       "   'work_dir': '/raid/datasets/asr/data/models/acoustic_models/WSJ'}},\n",
       " 'lm': {'train_dataset_name': None,\n",
       "  'train_dataset': None,\n",
       "  'ngram': 6,\n",
       "  'finetuned_model': '/raid/datasets/asr/data/models/language_models/WSJ_lm.binary',\n",
       "  'train_cmd': None,\n",
       "  'infer_cmd': None},\n",
       " 'reader_type': 'tools.System.reader.Reader'}"
      ]
     },
     "execution_count": 2,
     "metadata": {},
     "output_type": "execute_result"
    }
   ],
   "source": [
    "project_id = 'WSJ'\n",
    "\n",
    "project = Reader.new(project_id)\n",
    "project.manifest"
   ]
  },
  {
   "cell_type": "markdown",
   "metadata": {},
   "source": [
    "# 2. Fine-tune Pretrained Acoustic Model with `Domain Specific` Data\n",
    "Next, we finetune a baseline model with our own data.\n",
    "\n",
    "The steps are: \n",
    "1. Add pre-processed dataset to project\n",
    "2. Adjust training parameters\n",
    "3. Generate training command\n",
    "4. Perform Training \n",
    "\n",
    "Note, if the WSJ is not available to you, you can alternatively walk through these 4 steps using a dummy dataset but in the process the system will generate the correct directories. \n",
    "Then you can replace the checkpoints with the checkpoints of the **fine-tuned WSJ model** used to generate the results below, available in NGC in this [link](https://ngc.nvidia.com/models/nvidia:wsj_quartznet_15x5) \n",
    "You will place these checkpoints in the following directory:\n",
    "`[data_dir]/models/acoustic_models/WSJ/WSJ_finetuning-lr_0.0001-bs_16-e_100-wd_0.0-opt_novograd/checkpoints/`"
   ]
  },
  {
   "cell_type": "markdown",
   "metadata": {},
   "source": [
    "## 2.1. Add Training Datasets to the Project \n",
    "To train an acoustic model you require a pre-processed `json` training dataset.\n",
    "NeMo expects the dataset as a `json` file where each entry has the keys: `audio_filepath`, `duration` and `text`.\n",
    "\n",
    "Note: Make sure the pre-processed dataset has the correct paths to the audio files."
   ]
  },
  {
   "cell_type": "code",
   "execution_count": 3,
   "metadata": {},
   "outputs": [
    {
     "data": {
      "text/plain": [
       "{'train_dataset_names': ['WSJ-wsj-train-speed'],\n",
       " 'train_datasets': ['/raid/datasets/asr/data/example_data/wsj/wsj-train-si284-speed-0.9-1.1.json'],\n",
       " 'finetuned_model_path': None,\n",
       " 'train_cmd': None,\n",
       " 'infer_cmd': None,\n",
       " 'train_params': {'num_gpus': 1,\n",
       "  'batch_size': 16,\n",
       "  'num_epochs': 1,\n",
       "  'lr': None,\n",
       "  'warmup_steps': None,\n",
       "  'weight_decay': None,\n",
       "  'model_config': '/raid/datasets/asr/data/config_files/WSJ_acoustic_quartznet15x5.yaml',\n",
       "  'optimizer': 'novograd',\n",
       "  'amp_opt_level': 'O1',\n",
       "  'beta1': None,\n",
       "  'beta2': None,\n",
       "  'finetune': True,\n",
       "  'load_encoder': '/home/adrianaf/projects/asr_system/nemo_asr_app/demo/quartznet15x5/JasperEncoder-STEP-247400.pt',\n",
       "  'load_decoder': '/home/adrianaf/projects/asr_system/nemo_asr_app/demo/quartznet15x5/JasperDecoderForCTC-STEP-247400.pt',\n",
       "  'work_dir': '/raid/datasets/asr/data/models/acoustic_models/WSJ'}}"
      ]
     },
     "execution_count": 3,
     "metadata": {},
     "output_type": "execute_result"
    }
   ],
   "source": [
    "# train dataset\n",
    "train_json=os.path.join(cfg.DATASET.PATHS.EXAMPLE_DATA, \"wsj\", \"wsj-train-si284-speed-0.9-1.1.json\")\n",
    "\n",
    "project.add_dataset(train_json, \"WSJ-wsj-train-speed\", dataset_type=\"am-train\")\n",
    "project.manifest.am"
   ]
  },
  {
   "cell_type": "markdown",
   "metadata": {},
   "source": [
    "## 2.2 Modify acoustic model training parameters\n",
    "The default training parameters are specified in the project manifest, training script and the configuration file  `[DATA_DIR]/config_files/[Project_id]_acoustic_quartznet15x5.yaml`. However, you can modify some of these parameters as follows.\n",
    "\n",
    "To see the full list of parameters accessible by the manifest see `project.manifest.am.train_params`, to see other parameters look at the NeMo training script at `/tools/NeMo/jasper_train.py`.\n",
    "\n",
    "Important Notes:\n",
    "- The parameter `amp_opt_level` set to O1 or above, enables NVIDIA's [Automatic Mixed Precision for Deep Learning](https://developer.nvidia.com/automatic-mixed-precision).\n",
    "- To enable finetuning you must set the parameter `finetuning` to \"True\" and set the path to the `pre-trained encoder and decoder` to the parameters `load_encoder` and `load_decoder` respectively. Note, the finetuning and pre-trained encoder and decoders are already added at the start of the project."
   ]
  },
  {
   "cell_type": "code",
   "execution_count": 4,
   "metadata": {},
   "outputs": [
    {
     "data": {
      "text/plain": [
       "{'train_dataset_names': ['WSJ-wsj-train-speed'],\n",
       " 'train_datasets': ['/raid/datasets/asr/data/example_data/wsj/wsj-train-si284-speed-0.9-1.1.json'],\n",
       " 'finetuned_model_path': None,\n",
       " 'train_cmd': None,\n",
       " 'infer_cmd': None,\n",
       " 'train_params': {'num_gpus': 4,\n",
       "  'batch_size': 16,\n",
       "  'num_epochs': 100,\n",
       "  'lr': 0.0001,\n",
       "  'warmup_steps': 0,\n",
       "  'weight_decay': None,\n",
       "  'model_config': '/raid/datasets/asr/data/config_files/WSJ_acoustic_quartznet15x5.yaml',\n",
       "  'optimizer': 'novograd',\n",
       "  'amp_opt_level': 'O1',\n",
       "  'beta1': None,\n",
       "  'beta2': None,\n",
       "  'finetune': True,\n",
       "  'load_encoder': '/home/adrianaf/projects/asr_system/nemo_asr_app/demo/quartznet15x5/JasperEncoder-STEP-247400.pt',\n",
       "  'load_decoder': '/home/adrianaf/projects/asr_system/nemo_asr_app/demo/quartznet15x5/JasperDecoderForCTC-STEP-247400.pt',\n",
       "  'work_dir': '/raid/datasets/asr/data/models/acoustic_models/WSJ'}}"
      ]
     },
     "execution_count": 4,
     "metadata": {},
     "output_type": "execute_result"
    }
   ],
   "source": [
    "project.set_am_batch_size(16)\n",
    "project.set_am_num_gpus(4)\n",
    "project.set_am_learning_rate(0.0001)\n",
    "project.manifest.am.train_params.warmup_steps = 0 \n",
    "#project.manifest.am.train_params.weight_decay = 0.0001\n",
    "\n",
    "# If your dataset has 200+ Hrs of audio you can fine-tune for less epochs, e.g. 100.\n",
    "project.set_am_num_epochs(100)\n",
    "\n",
    "# novograd\n",
    "#project.manifest.am.train_params.beta1 = 0.95\n",
    "#project.manifest.am.train_params.beta2 = 0.25 \n",
    "\n",
    "# To modify the path to config file and the pretrained model\n",
    "#project.load_am_config_file(config_file='')\n",
    "#project.set_am_pretrained_model(model='')\n",
    "\n",
    "project.save_manifest()\n",
    "project.manifest.am"
   ]
  },
  {
   "cell_type": "markdown",
   "metadata": {},
   "source": [
    "## 2.3 Generate Training Command\n",
    "Next we generate the acoustic training command, we use the settings specified in the manifest to create the appropriate command."
   ]
  },
  {
   "cell_type": "code",
   "execution_count": 5,
   "metadata": {},
   "outputs": [
    {
     "name": "stdout",
     "output_type": "stream",
     "text": [
      "! python -m torch.distributed.launch --nproc_per_node=4 /home/adrianaf/projects/asr_system/nemo_asr_app/tools/NeMo/jasper_train.py --batch_size=16 --num_epochs=100 --lr=0.0001 --model_config=/raid/datasets/asr/data/config_files/WSJ_acoustic_quartznet15x5.yaml --optimizer=novograd --amp_opt_level=O1 --finetune --load_encoder=/home/adrianaf/projects/asr_system/nemo_asr_app/demo/quartznet15x5/JasperEncoder-STEP-247400.pt --load_decoder=/home/adrianaf/projects/asr_system/nemo_asr_app/demo/quartznet15x5/JasperDecoderForCTC-STEP-247400.pt --work_dir=/raid/datasets/asr/data/models/acoustic_models/WSJ --exp_name=WSJ_finetuning --train_dataset=/raid/datasets/asr/data/example_data/wsj/wsj-train-si284-speed-0.9-1.1.json\n"
     ]
    }
   ],
   "source": [
    "am_training_cmd = project.get_am_train_cmd()\n",
    "print(\"! \"+ am_training_cmd)"
   ]
  },
  {
   "cell_type": "markdown",
   "metadata": {},
   "source": [
    "## 2.4. Fine-tune Pretrained Model\n",
    "Now that we have the training command that reflects the project configuration, we can perform acoustic model training. Note, acoustic model training can take a long time so it is be better to run training directly from the terminal of the container, using the command generated."
   ]
  },
  {
   "cell_type": "markdown",
   "metadata": {},
   "source": [
    "Note, if you completed the training before, you'll have checkpoints saved in the working directory.  We'll need to remove these to restart training. "
   ]
  },
  {
   "cell_type": "code",
   "execution_count": 6,
   "metadata": {},
   "outputs": [],
   "source": [
    "# clean log directory to re-run the training command\n",
    "#project.clean_am_workdir()"
   ]
  },
  {
   "cell_type": "markdown",
   "metadata": {},
   "source": [
    "Copy (select cmd + shift RMB + copy) the command generated and paste it below to run training inside the notebook, we recommend you run it at the container's terminal."
   ]
  },
  {
   "cell_type": "code",
   "execution_count": 7,
   "metadata": {},
   "outputs": [],
   "source": [
    "#! python -m torch.distributed.launch --nproc_per_node=4 /home/adrianaf/projects/asr_system/nemo_asr_app/tools/NeMo/jasper_train.py --batch_size=16 --num_epochs=100 --lr=0.0001 --model_config=/raid/datasets/asr/data/config_files/WSJ_acoustic_quartznet15x5.yaml --optimizer=novograd --amp_opt_level=O1 --finetune --load_encoder=/home/adrianaf/projects/asr_system/nemo_asr_app/demo/quartznet15x5/JasperEncoder-STEP-247400.pt --load_decoder=/home/adrianaf/projects/asr_system/nemo_asr_app/demo/quartznet15x5/JasperDecoderForCTC-STEP-247400.pt --work_dir=/raid/datasets/asr/data/models/acoustic_models/WSJ --exp_name=WSJ_finetuning --train_dataset=/raid/datasets/asr/data/example_data/wsj/wsj-train-si284-speed-0.9-1.1.json"
   ]
  },
  {
   "cell_type": "markdown",
   "metadata": {},
   "source": [
    "# 3. Inference with Pre-trained and Fine-tuned Models\n",
    "Next, we perform inference with both the pre-trained and fine-tuned models.\n",
    "\n",
    "The steps are: \n",
    "1. Add pre-processed evaluation datasets to project\n",
    "2. Inference with Pre-trained model\n",
    "3. Inference with Fine-tuned model"
   ]
  },
  {
   "cell_type": "markdown",
   "metadata": {},
   "source": [
    "## 3.1. Add Inference Evaluation Datasets to the Project \n",
    "To perform inference you require a preprocessed `json` dataset, with the columns: `audio_filepath`, `duration` and `text`."
   ]
  },
  {
   "cell_type": "code",
   "execution_count": 8,
   "metadata": {},
   "outputs": [
    {
     "name": "stdout",
     "output_type": "stream",
     "text": [
      "['wsj-eval']\n",
      "['/raid/datasets/asr/data/example_data/wsj/wsj-eval-92.json']\n"
     ]
    }
   ],
   "source": [
    "# add inference dataset\n",
    "eval_json=os.path.join(cfg.DATASET.PATHS.EXAMPLE_DATA, \"wsj\",\"wsj-eval-92.json\")\n",
    "#eval_json=os.path.join(cfg.DATASET.PATHS.EXAMPLE_DATA, \"wsj\",\"wsj-dev-93.json\")\n",
    "\n",
    "project.add_dataset(eval_json, \"wsj-eval\", dataset_type=\"eval\")\n",
    "\n",
    "print(project.manifest.eval_dataset_names)\n",
    "print(project.manifest.eval_datasets)"
   ]
  },
  {
   "cell_type": "markdown",
   "metadata": {},
   "source": [
    "## 3.2 Inference with Pre-trained model\n",
    "To do inference, we follow 3 steps: 1) Adjust inference parameters. 2) Generate inference command 3) Perform inference"
   ]
  },
  {
   "cell_type": "markdown",
   "metadata": {},
   "source": [
    "### 3.2.1 Modify inference parameters\n",
    "The default inference parameters are specified in the project manifest, inference script and the configuration file. However, you can modify some of these parameters as follows.\n",
    "\n",
    "To see the full list of parameters accessible by the manifest see `project.manifest.inference_params`, to see other parameters look at the NeMo inference script at `/tools/NeMo/jasper_eval.py`.\n",
    "\n",
    "Important Notes:\n",
    "- The parameter `amp_opt_level` set to O1 or above, enables NVIDIA's [Automatic Mixed Precision for Deep Learning](https://developer.nvidia.com/automatic-mixed-precision).\n",
    "\n",
    "- When `lm_path` is set to \"None\", the system will use a `greedy decoder`, and thus the language model parametrs, e.g. `beam_width`, `alpha`, `beta` will not be used."
   ]
  },
  {
   "cell_type": "code",
   "execution_count": 9,
   "metadata": {},
   "outputs": [
    {
     "data": {
      "text/plain": [
       "{'load_dir': '/home/adrianaf/projects/asr_system/nemo_asr_app/demo/quartznet15x5',\n",
       " 'model_config': '/raid/datasets/asr/data/config_files/WSJ_acoustic_quartznet15x5.yaml',\n",
       " 'batch_size': 32,\n",
       " 'amp_opt_level': 'O0',\n",
       " 'save_results': '/raid/datasets/asr/data/inferences/WSJ',\n",
       " 'lm_path': None,\n",
       " 'beam_width': None,\n",
       " 'alpha': None,\n",
       " 'beta': None}"
      ]
     },
     "execution_count": 9,
     "metadata": {},
     "output_type": "execute_result"
    }
   ],
   "source": [
    "project.manifest.inference_params.batch_size = 32\n",
    "project.manifest.inference_params.amp_opt_level = 'O0'\n",
    "\n",
    "project.save_manifest()\n",
    "project.manifest.inference_params"
   ]
  },
  {
   "cell_type": "markdown",
   "metadata": {},
   "source": [
    "### 3.2.2 Generate Inference Command: Pre-trained Model\n",
    "We generate the inference command using the manifest configurations."
   ]
  },
  {
   "cell_type": "code",
   "execution_count": 10,
   "metadata": {},
   "outputs": [
    {
     "name": "stdout",
     "output_type": "stream",
     "text": [
      "! python /home/adrianaf/projects/asr_system/nemo_asr_app/tools/NeMo/jasper_eval.py --load_dir=/home/adrianaf/projects/asr_system/nemo_asr_app/demo/quartznet15x5 --model_config=/raid/datasets/asr/data/config_files/WSJ_acoustic_quartznet15x5.yaml --batch_size=32 --amp_opt_level=O0 --save_results=/raid/datasets/asr/data/inferences/WSJ --eval_datasets=/raid/datasets/asr/data/example_data/wsj/wsj-eval-92.json --model_id=am-pretrained-greedy-decoder\n"
     ]
    }
   ],
   "source": [
    "# Model Id - We use this to identify the results of this model\n",
    "model_id = \"am-pretrained-greedy-decoder\"\n",
    "\n",
    "# Inference with Pre-trained model\n",
    "am_infer_cmd = project.get_inference_cmd(model_id=model_id)\n",
    "print(\"! \"+ am_infer_cmd)"
   ]
  },
  {
   "cell_type": "markdown",
   "metadata": {},
   "source": [
    "### 3.2.3 Run Inference with Pre-trained Model\n",
    "To run inference, copy (select cmd + shift RMB + copy) the command generated above and paste below."
   ]
  },
  {
   "cell_type": "code",
   "execution_count": 11,
   "metadata": {},
   "outputs": [
    {
     "name": "stdout",
     "output_type": "stream",
     "text": [
      "/opt/conda/lib/python3.6/site-packages/torchvision/io/_video_opt.py:17: UserWarning: video reader based on ffmpeg c++ ops not available\n",
      "  warnings.warn(\"video reader based on ffmpeg c++ ops not available\")\n",
      "Could not import torchaudio. Some features might not work.\n",
      "2019-12-15 21:20:20,543 - INFO - Dataset loaded with 0.71 hours. Filtered 0.00 hours.\n",
      "2019-12-15 21:20:20,543 - INFO - Evaluating 333 examples\n",
      "2019-12-15 21:20:20,544 - INFO - PADDING: 16\n",
      "2019-12-15 21:20:20,544 - INFO - STFT using conv\n",
      "2019-12-15 21:20:22,694 - INFO - ================================\n",
      "2019-12-15 21:20:22,697 - INFO - Number of parameters in encoder: 18894656\n",
      "2019-12-15 21:20:22,697 - INFO - Number of parameters in decoder: 29725\n",
      "2019-12-15 21:20:22,700 - INFO - Total number of parameters: 18924381\n",
      "2019-12-15 21:20:22,700 - INFO - ================================\n",
      "2019-12-15 21:20:22,707 - INFO - Restoring JasperEncoder from /home/adrianaf/projects/asr_system/nemo_asr_app/demo/quartznet15x5/JasperEncoder-STEP-247400.pt\n",
      "2019-12-15 21:20:22,903 - INFO - Restoring JasperDecoderForCTC from /home/adrianaf/projects/asr_system/nemo_asr_app/demo/quartznet15x5/JasperDecoderForCTC-STEP-247400.pt\n",
      "2019-12-15 21:20:22,984 - INFO - Evaluating batch 0 out of 11\n",
      "2019-12-15 21:20:24,740 - INFO - Evaluating batch 1 out of 11\n",
      "2019-12-15 21:20:25,051 - INFO - Evaluating batch 2 out of 11\n",
      "2019-12-15 21:20:25,362 - INFO - Evaluating batch 3 out of 11\n",
      "2019-12-15 21:20:25,679 - INFO - Evaluating batch 4 out of 11\n",
      "2019-12-15 21:20:26,022 - INFO - Evaluating batch 5 out of 11\n",
      "2019-12-15 21:20:26,354 - INFO - Evaluating batch 6 out of 11\n",
      "2019-12-15 21:20:26,685 - INFO - Evaluating batch 7 out of 11\n",
      "2019-12-15 21:20:27,030 - INFO - Evaluating batch 8 out of 11\n",
      "2019-12-15 21:20:27,352 - INFO - Evaluating batch 9 out of 11\n",
      "2019-12-15 21:20:27,666 - INFO - Evaluating batch 10 out of 11\n",
      "2019-12-15 21:20:27,993 - INFO - Greedy WER 9.99%\n",
      "2019-12-15 21:20:27,993 - INFO - Saving inference results to /raid/datasets/asr/data/inferences/WSJ/results-am_grid__wsj-eval-92__am-pretrained-greedy-decoder.json\n"
     ]
    }
   ],
   "source": [
    "! python /home/adrianaf/projects/asr_system/nemo_asr_app/tools/NeMo/jasper_eval.py --load_dir=/home/adrianaf/projects/asr_system/nemo_asr_app/demo/quartznet15x5 --model_config=/raid/datasets/asr/data/config_files/WSJ_acoustic_quartznet15x5.yaml --batch_size=32 --amp_opt_level=O0 --save_results=/raid/datasets/asr/data/inferences/WSJ --eval_datasets=/raid/datasets/asr/data/example_data/wsj/wsj-eval-92.json --model_id=am-pretrained-greedy-decoder"
   ]
  },
  {
   "cell_type": "markdown",
   "metadata": {},
   "source": [
    "## 3.2 Inference with Finetuned model\n",
    "To do inference with our finetuned model, we have to modify the manifest parameters to point to our finetuned model, then follow the same process as before."
   ]
  },
  {
   "cell_type": "markdown",
   "metadata": {},
   "source": [
    "### 3.3.1 Modify inference parameters\n",
    "The default inference parameters are specified in the project manifest, inference script and the configuration file. However, you can modify some of these parameters as follows.\n",
    "\n",
    "To see the full list of parameters accessible by the manifest see `project.manifest.inference_params`, to see other parameters look at the NeMo inference script at `/tools/NeMo/jasper_eval.py`.\n",
    "\n",
    "Important Notes:\n",
    "- The parameter `amp_opt_level` set to O1 or above, enables NVIDIA's [Automatic Mixed Precision for Deep Learning](https://developer.nvidia.com/automatic-mixed-precision).\n",
    "\n",
    "- When `lm_path` is set to \"None\", the system will use a `greedy decoder`, and thus the language model parametrs, e.g. `beam_width`, `alpha`, `beta` will not be used.\n",
    "\n",
    "\n",
    "Next, you **must** modify the `project.manifest.inference_params.load_dir` to use a different model than the default pretrained model.\n",
    "\n",
    "- The path to the finetuned model can be found at `project.manifest.am.finetuned_model_path`"
   ]
  },
  {
   "cell_type": "code",
   "execution_count": 12,
   "metadata": {},
   "outputs": [
    {
     "data": {
      "text/plain": [
       "'/raid/datasets/asr/data/models/acoustic_models/WSJ/WSJ_finetuning-lr_0.0001-bs_16-e_100-wd_0.0-opt_novograd/checkpoints'"
      ]
     },
     "execution_count": 12,
     "metadata": {},
     "output_type": "execute_result"
    }
   ],
   "source": [
    "# Path to the finetuned model\n",
    "project.manifest.am.finetuned_model_path"
   ]
  },
  {
   "cell_type": "code",
   "execution_count": 13,
   "metadata": {},
   "outputs": [
    {
     "data": {
      "text/plain": [
       "{'load_dir': '/home/adrianaf/projects/asr_system/nemo_asr_app/demo/finetuned',\n",
       " 'model_config': '/raid/datasets/asr/data/config_files/WSJ_acoustic_quartznet15x5.yaml',\n",
       " 'batch_size': 32,\n",
       " 'amp_opt_level': 'O0',\n",
       " 'save_results': '/raid/datasets/asr/data/inferences/WSJ',\n",
       " 'lm_path': None,\n",
       " 'beam_width': None,\n",
       " 'alpha': None,\n",
       " 'beta': None}"
      ]
     },
     "execution_count": 13,
     "metadata": {},
     "output_type": "execute_result"
    }
   ],
   "source": [
    "# Inference with Fintuned model\n",
    "# We provide the finetuned model inside the demo folder, but if you trained the model the path is available in project.manifest.am.finetuned_model_path\n",
    "project.manifest.inference_params.load_dir = os.path.join(os.environ['APP_DIR'], 'demo', 'finetuned') \n",
    "project.save_manifest()\n",
    "project.manifest.inference_params"
   ]
  },
  {
   "cell_type": "markdown",
   "metadata": {},
   "source": [
    "### 3.3.2 Generate Inference Command\n",
    "We generate the inference command using the manifest configurations."
   ]
  },
  {
   "cell_type": "code",
   "execution_count": 14,
   "metadata": {},
   "outputs": [
    {
     "name": "stdout",
     "output_type": "stream",
     "text": [
      "! python /home/adrianaf/projects/asr_system/nemo_asr_app/tools/NeMo/jasper_eval.py --load_dir=/home/adrianaf/projects/asr_system/nemo_asr_app/demo/finetuned --model_config=/raid/datasets/asr/data/config_files/WSJ_acoustic_quartznet15x5.yaml --batch_size=32 --amp_opt_level=O0 --save_results=/raid/datasets/asr/data/inferences/WSJ --eval_datasets=/raid/datasets/asr/data/example_data/wsj/wsj-eval-92.json --model_id=am-finetuned-WSJ_train_speed-greedy-decoder\n"
     ]
    }
   ],
   "source": [
    "# Model Id - We use this to identify the results of this model\n",
    "model_id = \"am-finetuned-WSJ_train_speed-greedy-decoder\"\n",
    "\n",
    "# Inference with Pretrained model\n",
    "am_infer_cmd = project.get_inference_cmd(model_id=model_id)\n",
    "print(\"! \"+ am_infer_cmd)"
   ]
  },
  {
   "cell_type": "markdown",
   "metadata": {},
   "source": [
    "### 3.3.3 Run Inference with Fine-tuned Model\n",
    "To run inference, copy (select cmd + shift RMB + copy) the command generated above and paste below."
   ]
  },
  {
   "cell_type": "code",
   "execution_count": 15,
   "metadata": {},
   "outputs": [
    {
     "name": "stdout",
     "output_type": "stream",
     "text": [
      "/opt/conda/lib/python3.6/site-packages/torchvision/io/_video_opt.py:17: UserWarning: video reader based on ffmpeg c++ ops not available\n",
      "  warnings.warn(\"video reader based on ffmpeg c++ ops not available\")\n",
      "Could not import torchaudio. Some features might not work.\n",
      "2019-12-15 21:20:32,153 - INFO - Dataset loaded with 0.71 hours. Filtered 0.00 hours.\n",
      "2019-12-15 21:20:32,153 - INFO - Evaluating 333 examples\n",
      "2019-12-15 21:20:32,154 - INFO - PADDING: 16\n",
      "2019-12-15 21:20:32,154 - INFO - STFT using conv\n",
      "2019-12-15 21:20:34,311 - INFO - ================================\n",
      "2019-12-15 21:20:34,314 - INFO - Number of parameters in encoder: 18894656\n",
      "2019-12-15 21:20:34,314 - INFO - Number of parameters in decoder: 29725\n",
      "2019-12-15 21:20:34,317 - INFO - Total number of parameters: 18924381\n",
      "2019-12-15 21:20:34,317 - INFO - ================================\n",
      "2019-12-15 21:20:34,324 - INFO - Restoring JasperEncoder from /home/adrianaf/projects/asr_system/nemo_asr_app/demo/finetuned/JasperEncoder-STEP-174000.pt\n",
      "2019-12-15 21:20:34,530 - INFO - Restoring JasperDecoderForCTC from /home/adrianaf/projects/asr_system/nemo_asr_app/demo/finetuned/JasperDecoderForCTC-STEP-174000.pt\n",
      "2019-12-15 21:20:34,613 - INFO - Evaluating batch 0 out of 11\n",
      "2019-12-15 21:20:36,428 - INFO - Evaluating batch 1 out of 11\n",
      "2019-12-15 21:20:36,742 - INFO - Evaluating batch 2 out of 11\n",
      "2019-12-15 21:20:37,040 - INFO - Evaluating batch 3 out of 11\n",
      "2019-12-15 21:20:37,346 - INFO - Evaluating batch 4 out of 11\n",
      "2019-12-15 21:20:37,682 - INFO - Evaluating batch 5 out of 11\n",
      "2019-12-15 21:20:38,009 - INFO - Evaluating batch 6 out of 11\n",
      "2019-12-15 21:20:38,353 - INFO - Evaluating batch 7 out of 11\n",
      "2019-12-15 21:20:38,699 - INFO - Evaluating batch 8 out of 11\n",
      "2019-12-15 21:20:39,017 - INFO - Evaluating batch 9 out of 11\n",
      "2019-12-15 21:20:39,331 - INFO - Evaluating batch 10 out of 11\n",
      "2019-12-15 21:20:39,687 - INFO - Greedy WER 4.47%\n",
      "2019-12-15 21:20:39,688 - INFO - Saving inference results to /raid/datasets/asr/data/inferences/WSJ/results-am_grid__wsj-eval-92__am-finetuned-WSJ_train_speed-greedy-decoder.json\n"
     ]
    }
   ],
   "source": [
    "! python /home/adrianaf/projects/asr_system/nemo_asr_app/tools/NeMo/jasper_eval.py --load_dir=/home/adrianaf/projects/asr_system/nemo_asr_app/demo/finetuned --model_config=/raid/datasets/asr/data/config_files/WSJ_acoustic_quartznet15x5.yaml --batch_size=32 --amp_opt_level=O0 --save_results=/raid/datasets/asr/data/inferences/WSJ --eval_datasets=/raid/datasets/asr/data/example_data/wsj/wsj-eval-92.json --model_id=am-finetuned-WSJ_train_speed-greedy-decoder"
   ]
  },
  {
   "cell_type": "markdown",
   "metadata": {},
   "source": [
    "# 4. Results and Model Comparison"
   ]
  },
  {
   "cell_type": "markdown",
   "metadata": {},
   "source": [
    "## 4.1 Add Inference results to manifest\n",
    "We first add the results from our inference runs to the project's manifest."
   ]
  },
  {
   "cell_type": "code",
   "execution_count": 16,
   "metadata": {},
   "outputs": [
    {
     "name": "stdout",
     "output_type": "stream",
     "text": [
      "Added results for model am-finetuned-WSJ_train_speed-greedy-decoder - /raid/datasets/asr/data/example_data/wsj/wsj-eval-92.json.\n",
      "Added results for model am-pretrained-greedy-decoder - /raid/datasets/asr/data/example_data/wsj/wsj-eval-92.json.\n"
     ]
    }
   ],
   "source": [
    "project.add_inference_results()"
   ]
  },
  {
   "cell_type": "markdown",
   "metadata": {},
   "source": [
    "Now that the inference results are added, we can see them in the manifest. \n",
    "The results are structured as follows: For each evaluation dataset, we have a multiple models identified by their `model_id` and inside those we have the model's results."
   ]
  },
  {
   "cell_type": "code",
   "execution_count": 17,
   "metadata": {},
   "outputs": [
    {
     "name": "stdout",
     "output_type": "stream",
     "text": [
      "Datasets with inference:  ['/raid/datasets/asr/data/example_data/wsj/wsj-eval-92.json']\n",
      "\n",
      "/raid/datasets/asr/data/example_data/wsj/wsj-eval-92.json\n",
      "{'am-finetuned-WSJ_train_speed-greedy-decoder': {'wer': 0.044657097288676235, 'path': '/raid/datasets/asr/data/inferences/WSJ/results-am_grid__wsj-eval-92__am-finetuned-WSJ_train_speed-greedy-decoder.json', 'lm_wer': None}, 'am-pretrained-greedy-decoder': {'wer': 0.09994683678894205, 'path': '/raid/datasets/asr/data/inferences/WSJ/results-am_grid__wsj-eval-92__am-pretrained-greedy-decoder.json', 'lm_wer': None}}\n"
     ]
    }
   ],
   "source": [
    "inf_datasets = list(project.manifest.inference.keys())\n",
    "print(\"Datasets with inference: \", inf_datasets)\n",
    "\n",
    "for inf in inf_datasets:\n",
    "    print()\n",
    "    print(inf)\n",
    "    print(project.manifest.inference[inf])"
   ]
  },
  {
   "cell_type": "markdown",
   "metadata": {},
   "source": [
    "To obtain the `Transcript` and `Ground Truth` from an evaluation dataset, you can use the commands `get_transcript` and `get_gtruth` using the path to the inference results which can be obtained by `project.get_inf_path`."
   ]
  },
  {
   "cell_type": "code",
   "execution_count": 18,
   "metadata": {
    "scrolled": true
   },
   "outputs": [
    {
     "name": "stdout",
     "output_type": "stream",
     "text": [
      "/raid/datasets/asr/data/inferences/WSJ/results-am_grid__wsj-eval-92__am-finetuned-WSJ_train_speed-greedy-decoder.json\n",
      "dravo last month agreed in principle to sell its inland water transportation steve doring and pipe fabrication businesses for an undisclosed sum the combined businesses accounted for two hundred thirty five million dollars of drevo's eight hundred ninety three million dollars in nineteen eighty five revenue in september the company received ninety six point eight million dollars as its share of damages from a breach of contract award related to a coal partnership south africa the solution by francis kendell and leon lo has sold over twenty five thousand copies since last year as miss kendell and mister lowe seet south africa's central government is like a big lumbering tank white bureaucrats are in the driver's seat and blacks rightly fear what the tank weapons can do to them many want to storm the tank and take it over but if the history of other african nations is any guide whites indians and small black tribe should fear that grains and soybeans most corn and wheat futures prices were stronger wheat futures were supported by concern that wheat may be vulnerable if cold snaps follow this past weekend warmth analysts said the warming trend may have melted te snow cover on some crops corn futures received some strength on expectation that the agriculture department would raise soviet import forecasts analysts said after the close of trading the forecasts were increased soybean futures prices were mixed with beans and oil finishing higher stronger palm oil prices helped oil prices firm analysts said contacts still inside oens corning help too mister collins learned that an owen's corning division was reducing its staff and would need outside help to produce a news letter he made a sales call he says it wasn't a givea way i sat down and figured out what they needed and sold them on it the sense of impending doom has stymied teamwork they say there was a lot more helping out and sharing before says bill kay the credit manager today he says the attitude is i've got my job and you've got your job adds jim a division manager for a retailer it's a doggy dog world mister holmes a court said he plans to review the structure of bell group it may be that our structure and multiplicity of corporations isn't the most effective for the future no firm plan has been defised but it is under consideration to review the whole structure he said the people's party cadre moved into key positions in areas of public administration including health education labor foreign relations and agriculture this allowed it to place more of its cadre in the panamanian buraucracy numerous comrades were appointed most of whom graduated for university's in communist blocked nations as with the rest of the recime however their ideology became contaminated by the germ of corruption this was particularly true for the political labor and student organizations which unconditionally surrendered to the defense forces the saga began four years ago when pennzoil sued texaco over its acquisition of getty oil in nineteen eighty five pennzoil won nearly eleven billion dollars in damages at trial the biggest judgment ever awarded a plaintiff the two companies agreed to settle a case for three billion dollars in late december pennzoil has been fretting over the details of moving the money ever since summits have their political benefits of course not least that the president dominates the news vice president bush must be especially grateful for the change of subject anything was better than a drum beat about panama and general noriega but having talked to a variety of republicans about this in recent weeks i'm convinced that more are worried about this paradox of duytont than publicly led on there's no doubt we've diminished the soviet threat very substantially in the last year says minnesota representative venwebber but there are also risks too steep a fall can mean higher inflation and eventually higher interest rates a lower dollar also makes it cheaper for foreigners to buy u s assets everything from stocks and bonds to real estate and corporations mister uze' a former english teacher is adapted delivering straight talk with diplomatic smiles that soften the harshness of his words but even this silver haired cigar smoking diplomat used tough words to describe america's arm sales to iran mister ezi who is iraq's link to the u s is especially sensitive about the american deception over iran we felt this was an active aggression he said without any moral or political justification he said the sales had had a major psychological impact on iran and a negative military impact on iraq associated ends known as ercoa is the general partner of arcoha hotel partners and has a one percent general partner interest in the partnership the remaining ninety nine percent interest in the partnership currently is held by affiliates of arcoa an aircois spokeswoman said the company formed e venture to create a financing vehicle for future hotel projects early last week mister chun did offer concessions he said he would reopen national assembly debate on constitutional revision which in april he had suspended until after the nineteen eighty eight olympics the opposition rejected the gesture as too little too late glassnost has also been good to lawrence leyten smith last year he went to the soviet union to record with the moscow phil harmonich the first time an american conductor has done so he says it can get corny to say that music is a universal language but it really is musicians are musicians yesterday's session began with a sharp quick decline in the industrial average of more than forty five points which some market analysts attributed to foreign selling but to the surprise of almost everyone stock prices began a steady climb that pushed the average above wednesday's close although those gains arroted during the afternoon stock prices stayed within a narrow range until the last half hour of trading whatever the case the main focus of attention remains today's trade report this market is waiting for only one thing sais alfred roff a senior vice president at tomson mckinnon securities incorporated the big shoe is going to drop when we see the trade number bids totaling six hundred fifty one million dollars were submitted accepted bids ranged from six point three eight five percent to six point four three six percent the bank holding company slated another fifty million dollar sale for next tuesday he noted that last week's one hundred eight point drop in the dow jones industrial average resulted from a slightly weaker dollar the markets tend to magnify the news they probably shouldn't have reacted so badly last week and perhaps they shouldn't have reacted so well to this astronomers say that the earth's fate is sealed five billion years from now the sun will slowly swallow the earth in a huge fire ball the fate of the universe is still a mystery astronomers can't tell whether the universe will expand forever powered by the big bang of old or whether it will subda collapse into an apocalyptic big crunch laguardia has only fifty seven gates but at peak hours dozens of more planes may be on the ground when flights arrive early pilots have no choice but to park the jet and wait for a gate the gates and corridors were designed for a smaller aircraft wide bodied aircraft take up two gates further snarling traffic now whatever their drawbacks in real life wymphs and fiction are not necessarily bad things they can be hilariously funny as well as highly effective tools for satire this is especially true in the work of british novelists and even previously in the work of william boyd an a s a scheduled the launch of the space shuttle discovery po september twenty ninth the shuttle would be the first to lift off since the nineteen eighty six challenger explosion the launch had been planned for earlier this year but was scrubbed by the space agency about five times because of design and other delays hunders said a d c three transport shot down monday by hondaran fighters apparently was carrying drugs from colombia the pilot an american and two others aboard died in the crash officials in tigucigalpa said the plane ignored requests to land after entering honder an airspace during the honolulu federal negotiations mister simon ran into mister martin at the christening of a mutual friend's child the two men had known each other for some years but their meeting turned out to be propitious mister martin recently departed from the fed told mister simond during a ride to washington national airport that he might start a private mortgage insurance concern instead mister simons persuaded him to join his group as h chief executive officer of the various holding companies to be set up to own each thrift stories of the left wing antics of britain's local governments have appeared in the british press for several years in recent weeks for example readers here have heard of the banning of anti irish jokes in one london burroug they've learned of a book distributed in another burreough called jesses dream skirt about a little boy who challenges sexis and by dressing as a girl the british public has gotten used to enjoying such loony left stories as part of its regular newspaper diet but there's an ugly side to what's going on in local government that deserves closer attention u s exports rose in the month but not nearly as much as imports strong imports however mean that domestic demand right now is strong one sure way to curba trade deficit is to have a full blown recession trade deficits weakened the dollar as they did last week and in a short run a weaker dollar means more help for exports in the longer run the weak dollar may mean more inflation and tight money and eventually a recession right now however the economy appears still to be growing for many japanese companies it was the first time they'd ever seen an american investor says mister arrin many people believe that commodor matthnew see perry discovered japan for americans actually it was paul arin he quips mister holmes a court said he plans to review the structure of bell group it may be that our structure and multiplicity of corporations isn't the most effective for the future no firm plan has been devised but it is under consideration to review the whole structure he said mister robertson can best be understood not as a new figure in the conservative movement but as the eir of the populists and father coflan as the populist did he appeals to less educated lower middle class people who find economic and social change frightening populast meetings had a revivalist flavor with banners urging people to vote as they prayed but the nation's largest retailer chicago based sears roebuck and company reported a decline of zero point six percent in comparable store sales the company declined to comment on the results painewebber's miss mcglade said a special promotion boosted year earlier sales significantly making it hard to achieve gains in the latest period george e r kaner the second was named to the new post of senior vice president in charge of long range planning and related government relations he had been senior vice president of washington operations for the defense contractor peter f berry succeeds mister kinnear and washington as a vice president mister berry had been president of hartman systems a unit of figi international incorporated now cba is trying to make amends it invited residents to join a committee to air their gripes against the company and discuss solutions the company also donated fifty thousand dollars to a local environmental group to hire specialists to evaluate the company's plans to clean up contaminated sites the consultants noticed an omission in the plans that neither the company nor federal regulators had spotted siba agreed to remedy the oversite n a s a scheduled the launch of the space shuttle discovery for september twenty ninth the shuttle would be the first to lift off since the nineteen eighty six challenger explosion the launch had been planned for earlier this year but was scrabbed by the space agency about five times because of design and other delays several tire industry executives and analysts question whether a slim down firestone can prosper merely by making tires and repairing cars they expect companies to grow or disappear he is proven that he can turn a sick animal into a healthy one says harry w millis tire analyst with mcdonald and company cleveland he's done very well for stockholders but it's difficult to see where the company goes from here the audio and automobile industries aren't the only ones that have let early advantages in technology or design slip away british appliance makers have lost ground to continental europeans who have established a reputation for design and quality standards television set makers regularly scheduled t v programming began here have lost out to the japanese and the europeans british computer brands like saint clare and acorn have bloomd but quickly faded e e c o incorporated isn't selling ex dividend today it will sell ex dividend at a later date the error was by the american stock exchange for months he had suffered night sweat's fevers and weight loss so finally the worried new yorker had is blood tested for evidence of the aids virus the result was positive he and other u s industry leaders insist though that import should be subject to the same degree of scrutiny and they balk at the approach used in meat and poultry plants continue is inspection of production lines instead they favor unannounced checks by roving rather than in house inspectors focusing on critical control points in s food processing astronomers say that the earth's fate is sealed five billion years from now the sun will slowly swallow the earth in a huge fire ball the fate of the universe is still a mystery astronomers can't tell whether the universe will expand forever powered by the big bang of old or whether it will someday collapse into an apocalyptic big crunch prompted by news reports of alleged misappropriation of funds the s e c visited the firm's new york headquarters last week with the intention of examining business records instead it found that a fashion designed firm migel cruz international was operating at the location registered as that of mister polo's investment firm mister polo also owns the fashion company at forty years old mister wang is relatively young for his job and that upsets colleagues who are used to a gradual promotion system based on seniority so mister win tells people he is fifty his m b a also irked some colleagues who are contemptuous of foreign concepts especially those that make them work harder sterling software which said it agreed to sell its commercial professional services group fell one eighth to seven and one eighth the company said the group's domestic and international operations will be sold separately it didn't identify the buyers or disclose terms of the sales muscular distrapy has baffled scientist ever since g a b du caine first recognized the disorder an one thousand eight hundred and fifty eight since each gen as the blue print for a protein the defect is known to involve a protein that affects muscles but tattempts to isolate a missing or defective protein in ha muscle tissue of mosco ar distracy patients have long proved frustrading now ciba is trying to make amends it invited residents to join a committee to air their gripes against the company and discuss solutions the company also donated fifty thousand dollars to a local environmental group to higher specialists to evaluate the company's plans to clean up contaminated sites the consultants noticed an a mission in the plans that neither the company nor federal regulators had spotted sebu agreed to remedy the oversite a g edwards as it often has during the past year the saint louis firm showed up its nine new york competitors in the latest quarter edwards tends to select the stocks of relatively small companies often not widely followed on wall street that meet traditional value criteria for example it likes stocks that sell at a low multiple of the company's book value or assets minus liabilities per share it also favors stocks that pay good dividends the average dividend yield of its recommended stocks is three point seven percent the second highest in the group after smith barney's four point one percent i b m fell one and seven eighths to one hundred twenty and three eighths on more than two point five million shares furman seltz major dietz and birney reportedly joined the crowd of wall street houses cutting their nineteen eighty seven i b m earnings estimate the firm said it doesn't comment on its stock recommendations or earnings estimates probably the largest contributor to the earnings upturn for major producers is a new pay structure hammered out in the heavily unionized pacific northwest in order to stay competitive with a proliferating number of small non union operations in the region most companies have successfully squeezed substantial wage concessions from lumber unions although such efforts triggered a rash of unsuccessful strikes last summer management's adoption of the new aggressive posture had to be done says one analyst a little good news could soften the market's resistance that fickle market changes quickly says john icorn chairman of eastern utilities associates boston which owns fifteen percent of seabrook we just get a good sign and that market will respond u s farships and helicopters chased away an iranian warship from a convoy of four kuwaiti tankers in the persian gulf it was considered the first major confrontation in the u s escort operation in a separate incident a u s destroyer fired machine gun warning shots at two small unidentified boats that approached the convoy mister holmes a court said he plans to review the structure of bell group it may be that our structure and multiplicity of corporations isn't the most effective for the future no firm plan has been devised but it is under consideration to review the whole structure he said whatever the case the main focus of attention remains today's trade report this market is waiting for only one thing sais alfred roth a senior vice president at thomson mckinnon securities incorporated the big shoe is going to drop when we see the trade number the philippine military said it had uncovered a plot by communist guerrillas to kill retired u s major general singlob the plan was discovered after decoding data captured in last week's arrest of twenty rebel leaders the rebels have accused singlob of forming anti communist vitilante groups even the abullionts on the floor of the new york stock exchange was tempered by a few gloomy thoughts there are always some pessimists on cynic said a floor specialist there are some guys here that are saying this is the final jump before the crash they're just waiting for the other shoe george ar kiner the second was named to the new post of senior vice president in charge of long range planning and related government relations he had been senior vice president of washington operations for the defense contractor peter f berry succeeds mister kinnear and washington as a vice president mister berry had been president of hartman systems a unit of figu international incorporated but other observers aren't so pessimistic abbe joseph cohen a portfolio strategist at drexel burnham lambert says the last en abullient reaction was entirely in keeping with ha new mood on wall street in general investors are a conservative lot these days she says responses tend to be muted we're seeing a response in the right direction but it's clearly tempered by natural conservatism right now i'm not at all unhappy with what i'm seeing not everyone buys the death of the dollar thesis while not ruling out that the u s currency could decline overtime mister lipsky of salomon says he thinks the jury is still out he argues that friday's unemployment figures undermined the thesis of a sharply slowing economy he also says the authorities mean what they say that they will not stand aside and let currencies reach new low's post election mister ragolow said that in order to market these and other drugs merk plans to increase its sales force by five hundred this year such jobs are seen as the plum of the industry because of merck's extensive line of products the pink sheet a drug industry trade letter reported this week that merck had twenty eight thousand applications for the openings i b m fell one and seven eighths to one hundred twenty and three eighths on more than two point five million shares furman selz mauger dietz and birney reportedly joined the crowd of wall street houses cutting their nineteen eighty seven i b m earnings estimate the firm said it doesn't comment on its stock recommendations or earnings estimates traders insist that an expected injection of liquidity from investment trust and other institutions will help boost share prices later in the week further slides on wall street on the other hand could have a negative impact traders say some investors are preparing for a short term correction this month although most believe that it won't be significant the article also states usually companies must keep paying workers participating in is slowdown because they continue to do their jobs and adhere to the rules however as suggested later in the article the employer may respond with a lockout and discontinuance of pay only a few states require unemployment compensation for lockeout workers for such group rate coverage employers can charge the former workers and their families the average cost of providing the health benefits plus a two percent administrative fee in most cases that still would be less than they would pay for arranging coverage on their own but some may be better off looking for insurance outside the employers' continued group rate plan however in light of the stakes already held by the various factions only about ten percent of generale de belgiks shares appear to be available on the market this means that for mister de benedetti to increase his stake by fifteen percent members of mister lysen's group would have to sell to him some sources said some of the less traditional holders of generale de belgikhs shares could be tempted by the prospect of capital gains regardless of the outcome of any meeting with gillette coniston seems almost certain to nominate its own slate of directors sometime next week the deadline for doing so is february twenty first two months before jullettes april twenty first annual meeting thus in order to reserve its right to launch a proxy fight conison would need to nominate its slate by friday february nineteenth bids totaling six hundred fifty one million dollars were submitted accepted bids ranged from six point three eight five percent to six point four three six percent the bank holding company slated another fifty million dollar sale for next tuesday in january the arabic speaking mideast expert mister marterosev arrived to take charge of the delegation his credential suggested that the soviets might harbor more interest in diplomacy than real estate if the soviets decide to change the nature of the mission they now have the right guy here says the israeli official now ciba is trying to make amends it invited residents to join a committee to air their gripes against the company and discuss solutions the company also donated fifty thousand dollars to a local environmental group to hire specialists to evaluate the company's plans to clean up contaminated sites the consultants noticed an omission in the plans that neither the company nor federal regulators had spotted siba agreed to remedy the oversite separately moody's investors service incorporated said it placed c s x and its transportation subsidiaries on review for possible downgrade because of c s x's restructuring plan the rating concern also placed the single a to senior debt rating of c s x's texas gas transmission unit on review with direction uncertain about one point five billion dollars of debt is under review but look a little further there are ways around hiring freezes in a local plant the manufacturing manager needed another foreman a salaried position but there was a freeze on hiring salaried personnel so an hourly operator was promoted to forman but maintained on the hourly payroll the head count a bogus measuring device if ever there was one remained the same there was no increase in salaried personnel not everyone buys the death of the dollar thesis while not ruling out that the u s currency could decline overtime mister lipsky of salomon says he thinks the jury is still out he argues that friday's unemployment figures undermine the thesis of a sharply slowing economy he also says the authorities mean what they say that they will not stand aside and let currencies reach new low's post election mister biesley now says he sought the accounting changes because without them it was clear that sooner or later we would need taxpayer money he acknowledges discussing the potential of speeding up losses but denies making any threat however the other officials characterize his message as let us try somephoney bolonia county or we can cause chaos mister simons couldn't immediately be reached for comment but he said in an interview last week that he could raise five hundred million dollars pretty fast to pursue an acquisition that doesn't mean he will try to buy m ecverment in recent years he has invested in g a f corporation and louisianalant and exploration company among others without bidding to acquire them at home the permanent secretary of the ministry of communications and information has rebuked the american business counsel another spokesman for the ministry has replied to the foreign correspondente association of southeast asia and the press secretary to the minister of communications and information has responded to numerous criticisms nobody knows how the south african government will react this isn't the time to take the chance and ask them that says mister applebom who adds that his homephone is bugged meantime more departures loom and he fears that the opportunity is fading higher interest rates of course could be offset by higher inflation that's more or less what the blue chip economists expect but the federal reserve and mister greenspan are likely to be working hard to keep inflation down the new chairman knows that his political connections make some market participants suspicious that he will try to stimulate the economy to help g o p candidates next year mitchell held an economist at smith barney harris upham and company thinks mister greenspan wants to establish his crudentials as an inflation fighter as signs of a stronger economy emerge he adds long term rates are likely to drift higher short term rates he says are likely to remain steady or move somewhat higher under terms previously reported the italian agricultural concern assumed about one hundred ninety five million dollars an subordinated debt as part of the transaction shamrock's pretax profit from the sale was one hundred twenty five million dollars a spokeswoman said shamrock has interests in television and radio stations energy services real estate and venture capital in any case there are problems with the smooth transition thesis for one thing consumers may not be quite ready to quit spending there are indications that sales are slowing down but consumer credits surged upward in december if it isn't one thing it's another i see by the papers that people are worried about the coming budget surplus the worries are of two kinds one is that we will have the surplus but shouldn't the other is that we should have the surplus but won't yet even at eighty six he is considered the country's most dynamic political figure he's the only guy who could show up in the plaza and draw a crowd of seventy five thousand people says one latin diplomat mister isenman the opposition businessman says ar nufo isn't the solution but there isn't any solution without our nufo at forty years old mister wing is relatively young for his job and that upsets colleagues who are used to a gradual promotion system based on seniority so mister winke tells people he is fifty his m b a also irkes some colleagues who are contemptuous of foreign concepts especially those that make them work harder the cost of animals used in research represents only one percent to two percent of total costs so increasing the cost of animals would not affect the bill for animal research significantly however increasing the cost of research animals should motivate researchers not to waste them on merely curious or repetitive studies if so then increasing the cost of research animals should actually reduce the bill of public pays for animal research macdermett and n l are in different segments of the oil services business n l service as wells once they are drilled while mcdurmitt builds offshort drilling rigs but both companies should benefit from an upturn in the oil and natural gas business thrift net worth assets minus liabilities expressed as a percentage of total liabilities the national average was four point six three percent in december nineteen eighty six thrifts must maintain a level of net worth that is at least three percent of their liabilities new federal rules require thrifts to gradually raise that level depending on the profitability of the industry the problem is that pan am's unions have lost confidence in mister aker and continue to insist that they won't make concessions unless he is replaced pan am is clearly banking on getting those concessions this year an executive at another airline says but acter's credibility has eroted to the point that if they pan am directors don't get rid of acur they won't get those concessions the working papers' options for taxing employee benefits included limiting the exclusion of employer provided health insurance and cafitaria plann benefits also mentioned was a controversial proposal to deny the deduction for twenty percent of corporate advertising costs and to require instead that they be amortized over two years it has some appeal because it would raise thirty seven point nine billion dollars over three years we'd like to see something that leads to real democracy says jameie bonea vice secretary general of the independent liberal party unfortunately we see nothing but stunts and they may be able to get away with a lot more of these publicity maneuvers without giving up much real ground nakasone selected naburu takeshita to succeed him as japan's premier the choice by nakasone came after the former finance minister and his two rivals were deadlocked over who should be named president of the ruling liberal democratic party because the conservative party controls the parliament the winner of the top party post also becomes prime minister although japan's policies won't change radically under takeshita sixty three his lack of foreign policy experience could worsen japan's international relations the recall expands on a withdrawal of other models begun earlier this week a spokesman for the nuclear regulatory commission said three m decided to recall additional models of its air ionisers after radiation leaks were discovered at four facilities using those models the expanded recall was disclosed at a meeting with n r c officials and an agency office outside chicago market action was essentially digesting wednesday's rally the nasdaq composite index of four thousand six hundred thirty eight stocks closed at three hundred seventy four point six five down zero point one six but scores of smaller stocks rose and several of the bigger national market system issues managed gains as well because of a kind word from an analyst narrowly defiing there are a dozen or so asset allocation funds although most of those have been weak performers this year that hasn't stopked others from trying to cash in on the term's new cachet everyone's running around trying to call themselves an allocation fund says don phillips editor of mutual fund values a mutual fund advisory service nuclear weapons free zones are attracting increasing and misguided public and parliamentary attention in the post i n f western world creating a nuclear free zone is partly a local decision citizens or government in a certain geographic area decide to ban nuclear weapons from that area they can also involve international cooperation the goal often is to get foreign states with nuclear arsenals to pledge not to use nuclear weapons against the own in addition nuclear free zones often include arrangements that require nuclear weapons deployed adjacents of this own on land or at s be pulled back yield management isn't all bad for consumers hotels can use the technology to predict when business will be unusually slow and thus when more discounting is needed and some chains such as holiday corporation share ts incorporation and hyatt hotels corporation insist they will make plenty of rooms available at bargain rates the fee on the green or basic card will jump to fifty five dollars it was last raised in june nineteen eighty five to forty five dollars from thirty five dollars the gold card which includes a few additional services will now cost seventy five dollars a year the gold card fee was last increased in september nineteen eighty four to sixty five dollars from fifty dollars\n"
     ]
    }
   ],
   "source": [
    "# to get the path to the inference results - you need the dataset path and the model-id you wish to retrieve\n",
    "path = project.get_inf_path('/raid/datasets/asr/data/example_data/wsj/wsj-eval-92.json',\n",
    "                            'am-finetuned-WSJ_train_speed-greedy-decoder')\n",
    "print(path)\n",
    "# get transcript and ground truth\n",
    "transcript = get_transcript(path)\n",
    "gtruth = get_gtruth(path)\n",
    "print(transcript)"
   ]
  },
  {
   "cell_type": "markdown",
   "metadata": {},
   "source": [
    "## 4.2 Model Comparison\n",
    "Next, we compare the Word Error Rates for both the fine-tuned model and pre-trained model."
   ]
  },
  {
   "cell_type": "code",
   "execution_count": 19,
   "metadata": {},
   "outputs": [
    {
     "name": "stdout",
     "output_type": "stream",
     "text": [
      "['/raid/datasets/asr/data/example_data/wsj/wsj-eval-92.json']\n"
     ]
    }
   ],
   "source": [
    "inferences_all = list(project.manifest.inference.keys())\n",
    "inferences_all.sort()\n",
    "print(inferences_all)"
   ]
  },
  {
   "cell_type": "markdown",
   "metadata": {},
   "source": [
    "We select a eval dataset to plot its performance and we also select the performance metric we wish to sort by."
   ]
  },
  {
   "cell_type": "code",
   "execution_count": 20,
   "metadata": {},
   "outputs": [
    {
     "name": "stdout",
     "output_type": "stream",
     "text": [
      "/raid/datasets/asr/data/example_data/wsj/wsj-eval-92.json\n"
     ]
    },
    {
     "data": {
      "text/html": [
       "<div>\n",
       "<style scoped>\n",
       "    .dataframe tbody tr th:only-of-type {\n",
       "        vertical-align: middle;\n",
       "    }\n",
       "\n",
       "    .dataframe tbody tr th {\n",
       "        vertical-align: top;\n",
       "    }\n",
       "\n",
       "    .dataframe thead th {\n",
       "        text-align: right;\n",
       "    }\n",
       "</style>\n",
       "<table border=\"1\" class=\"dataframe\">\n",
       "  <thead>\n",
       "    <tr style=\"text-align: right;\">\n",
       "      <th></th>\n",
       "      <th>inference_types</th>\n",
       "      <th>lm_wer</th>\n",
       "      <th>wer</th>\n",
       "      <th>percentWER</th>\n",
       "    </tr>\n",
       "  </thead>\n",
       "  <tbody>\n",
       "    <tr>\n",
       "      <th>0</th>\n",
       "      <td>am-finetuned-WSJ_train_speed-greedy-decoder</td>\n",
       "      <td>NaN</td>\n",
       "      <td>0.044657</td>\n",
       "      <td>4.465710</td>\n",
       "    </tr>\n",
       "    <tr>\n",
       "      <th>1</th>\n",
       "      <td>am-pretrained-greedy-decoder</td>\n",
       "      <td>NaN</td>\n",
       "      <td>0.099947</td>\n",
       "      <td>9.994684</td>\n",
       "    </tr>\n",
       "  </tbody>\n",
       "</table>\n",
       "</div>"
      ],
      "text/plain": [
       "                               inference_types  lm_wer       wer  percentWER\n",
       "0  am-finetuned-WSJ_train_speed-greedy-decoder     NaN  0.044657    4.465710\n",
       "1                 am-pretrained-greedy-decoder     NaN  0.099947    9.994684"
      ]
     },
     "execution_count": 20,
     "metadata": {},
     "output_type": "execute_result"
    }
   ],
   "source": [
    "sel_inference = project.manifest.inference[inferences_all[0]]\n",
    "sort_metric = 'percentWER'\n",
    "\n",
    "# Note if you wish to plot (and parse) only a specific set of models you can use the argument 'keep' and \n",
    "# list the model_id(s) you wish to keep.\n",
    "am_df = parse_manifest_wer(sel_inference, sort_metric=sort_metric, keep=['am-finetuned-WSJ_train_speed-greedy-decoder',\n",
    "                                                                         'am-pretrained-greedy-decoder'])\n",
    "print(inferences_all[0])\n",
    "am_df"
   ]
  },
  {
   "cell_type": "markdown",
   "metadata": {},
   "source": [
    "We use the dataframe created by the `parse_manifest_wer` function to plot the performance of the different models.\n",
    "We use the function `barplot_manifest` that has the arguments `([dataframe],[metric to plot],[title],[xlabel],[ylabel])`.\n",
    "\n",
    "Note:\n",
    "WER percent may be above 100% when the number of words in the prediction is larger than the number of words in the reference."
   ]
  },
  {
   "cell_type": "code",
   "execution_count": 21,
   "metadata": {},
   "outputs": [
    {
     "data": {
      "image/png": "[encoded data removed]",
      "text/plain": [
       "<Figure size 1440x648 with 1 Axes>"
      ]
     },
     "metadata": {
      "needs_background": "light"
     },
     "output_type": "display_data"
    }
   ],
   "source": [
    "%matplotlib inline\n",
    "am_wer = barplot_manifest(am_df,'percentWER',\"WSJ - Acoustic Model - Word Error Rate\", \"Inference type\",\"Percent %\")"
   ]
  },
  {
   "cell_type": "markdown",
   "metadata": {},
   "source": [
    "## 5. WER effect of Acoustic training\n",
    "As shown in the plot, finetuning the acoustic model on our domain data can greatly improve model performance."
   ]
  },
  {
   "cell_type": "code",
   "execution_count": 22,
   "metadata": {},
   "outputs": [],
   "source": [
    "am_df.set_index('inference_types', inplace=True)"
   ]
  },
  {
   "cell_type": "code",
   "execution_count": 23,
   "metadata": {},
   "outputs": [],
   "source": [
    "org = am_df.loc['am-pretrained-greedy-decoder','wer'] # pre-trained model\n",
    "new = am_df.loc['am-finetuned-WSJ_train_speed-greedy-decoder','wer'] # fine-tuned model"
   ]
  },
  {
   "cell_type": "code",
   "execution_count": 24,
   "metadata": {},
   "outputs": [
    {
     "name": "stdout",
     "output_type": "stream",
     "text": [
      "Decreased WER by 55.32%\n"
     ]
    }
   ],
   "source": [
    "per_decrease = 100*((org-new)/org)\n",
    "print(\"Decreased WER by {0:.2f}%\".format(per_decrease))"
   ]
  },
  {
   "cell_type": "code",
   "execution_count": null,
   "metadata": {},
   "outputs": [],
   "source": []
  }
 ],
 "metadata": {
  "kernelspec": {
   "display_name": "Python 3",
   "language": "python",
   "name": "python3"
  },
  "language_info": {
   "codemirror_mode": {
    "name": "ipython",
    "version": 3
   },
   "file_extension": ".py",
   "mimetype": "text/x-python",
   "name": "python",
   "nbconvert_exporter": "python",
   "pygments_lexer": "ipython3",
   "version": "3.6.9"
  }
 },
 "nbformat": 4,
 "nbformat_minor": 4
}
